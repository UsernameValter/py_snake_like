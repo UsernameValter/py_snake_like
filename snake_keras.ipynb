{
 "cells": [
  {
   "cell_type": "code",
   "execution_count": 1,
   "metadata": {},
   "outputs": [
    {
     "name": "stdout",
     "output_type": "stream",
     "text": [
      "pygame 1.9.6\n",
      "Hello from the pygame community. https://www.pygame.org/contribute.html\n"
     ]
    },
    {
     "name": "stderr",
     "output_type": "stream",
     "text": [
      "Using TensorFlow backend.\n"
     ]
    }
   ],
   "source": [
    "import numpy as np\n",
    "import random \n",
    "from random import randint\n",
    "import time\n",
    "import pygame\n",
    "import tensorflow as tf\n",
    "from tensorflow import keras\n",
    "from keras import Model\n",
    "from keras.layers import Dense, Input, Flatten\n",
    "\n",
    "\n",
    "board_size = 7\n",
    "sizeX = 770 / board_size\n",
    "sizeY = 770 / board_size\n",
    "turns = {0:[-1, 0], 1:[0, 1], 2:[1, 0], 3:[0, -1]}\n"
   ]
  },
  {
   "cell_type": "code",
   "execution_count": 2,
   "metadata": {},
   "outputs": [],
   "source": [
    "def init_model():    \n",
    "    inp = Input(shape=(49, 1))\n",
    "    flat = Flatten()(inp)\n",
    "    x1 = Dense(7, activation=\"relu\")(flat) \n",
    "    out = Dense(4, activation=\"softmax\")(x1) \n",
    "    model = Model(input=inp, output=out)\n",
    "    return model"
   ]
  },
  {
   "cell_type": "code",
   "execution_count": 3,
   "metadata": {},
   "outputs": [],
   "source": [
    "\n",
    "def predict(vision, model): \n",
    "    \"\"\" Prediction move using board \"\"\"\n",
    "    vision = np.reshape(vision, (1, 49, 1))  \n",
    "    prediction = model.predict(vision) \n",
    "    return prediction"
   ]
  },
  {
   "cell_type": "code",
   "execution_count": 4,
   "metadata": {},
   "outputs": [],
   "source": [
    "def train_play(  weights=0):\n",
    "    \"\"\" 1 epoch of little snake life ♥ \"\"\"\n",
    "    alife = True\n",
    "    turn = 0 \n",
    "    model = init_model()\n",
    "    if not weights == 0:\n",
    "        model.set_weights(weights)\n",
    "    player = snake()\n",
    "    player.set_board()\n",
    "    while(alife == True and turn < 150):\n",
    "        turn += 1\n",
    "        board = player.set_board()\n",
    "        prediction = predict( board, model)\n",
    "        pick = turns[np.argmax(prediction)]  \n",
    "        alife = player.move(pick)\n",
    "    score = player.get_score()\n",
    "    return score , model "
   ]
  },
  {
   "cell_type": "code",
   "execution_count": 15,
   "metadata": {},
   "outputs": [],
   "source": [
    "def new_weights(w, score):\n",
    "    \"\"\" generating new random weights values\"\"\" \n",
    "    for i, _ in enumerate(w): \n",
    "        if np.shape(w) == (7,):\n",
    "            # w[i] = w[i] = w[i] + random.uniform(-1, 1) * (1 / np.exp(score))\n",
    "            w[i] = w[i] = w[i] + random.uniform(-1, 1) * (1 / np.exp(score))\n",
    "        else:\n",
    "            for j, _ in enumerate(w[i]): \n",
    "                w[i][j] = w[i][j] + random.uniform(-1, 1)  \n",
    "                w[i][j] = w[i][j] + random.uniform(-1, 1)  \n",
    "    return np.array(w)"
   ]
  },
  {
   "cell_type": "code",
   "execution_count": 8,
   "metadata": {},
   "outputs": [],
   "source": [
    "def training_loop(epoches=10, delay=1):\n",
    "   \n",
    "    best_model = None\n",
    "    best_score_tmp = 0.1\n",
    "    best_score = 0\n",
    "    for i in range(epoches):\n",
    "     \n",
    "        for j in range(7):\n",
    "            if not i == 0: \n",
    "                w_new = new_weights(w, best_score) \n",
    "                #w_new[1] = list( map(lambda x: x + random.uniform(-1, 1) * 0.7 / best_score, w[1]) ) \n",
    "            else:\n",
    "                 w_new = 0\n",
    "                \n",
    "            score, model = train_play( weights=w_new)\n",
    "            print(j, \" score = \", score)\n",
    "            if score > best_score:\n",
    "                best_model = model\n",
    "                best_score_tmp = score \n",
    "                best_score = score\n",
    "        print(\"best score = \", best_score_tmp)\n",
    "        \n",
    "        visual(best_model, delay=delay)\n",
    "        w = best_model.get_weights()\n",
    "        w = np.array(list(w))  \n",
    "        best_score_tmp = 0.1\n",
    "        \n",
    "   # print(w)\n",
    "\n",
    "   # best_model.set_weights(w)\n",
    "    \n",
    "    visual(best_model, delay=delay)\n",
    "    \n",
    "    return best_model"
   ]
  },
  {
   "cell_type": "code",
   "execution_count": 9,
   "metadata": {},
   "outputs": [],
   "source": [
    "def draw(win, board):  \n",
    "    \"\"\"drawing board to screen\"\"\"\n",
    "    for i in range(0, np.shape(board)[0]): \n",
    "        for j in range(0, np.shape(board)[1]):    \n",
    "            if board[i][j]== 0 :\n",
    "                pygame.draw.rect(win,(30, 30, 30),(i*sizeX, j*sizeY, sizeX - 4, sizeY - 4)) \n",
    "            if board[i][j]== 0.5 :\n",
    "                pygame.draw.rect(win,(0, 220, 0),(i*sizeX, j*sizeY, sizeX - 4, sizeY- 4)) \n",
    "            if board[i][j]== 0.7 :\n",
    "                pygame.draw.rect(win,(0, 160, 0),(i*sizeX, j*sizeY, sizeX - 4, sizeY- 4))\n",
    "            if board[i][j]== 1 :\n",
    "                pygame.draw.rect(win,(255, 0, 0),(i*sizeX, j*sizeY, sizeX - 4, sizeY- 4)) \n"
   ]
  },
  {
   "cell_type": "code",
   "execution_count": 10,
   "metadata": {},
   "outputs": [],
   "source": [
    "class snake():\n",
    "    \"\"\" main game class \"\"\"\n",
    "    def __init__(self):\n",
    "        self.segments = np.array([[2, 2],[3, 2],[4, 2]])\n",
    "        self.head = np.array([5, 2])\n",
    "        self.apple = np.array([1, 1])\n",
    "        self.score = 0\n",
    "\n",
    "    def set_board(self):\n",
    "        \"\"\"Setting game objects to the board\"\"\"\n",
    "        self.board = np.zeros((board_size, board_size))\n",
    "        self.board[self.head[0]][self.head[1]] = 0.7\n",
    "        self.board[self.apple[0]][self.apple[1]] = 1\n",
    "        for i in self.segments:\n",
    "            self.board[i[0]][i[1]] = 0.5\n",
    "        return self.board    \n",
    "\n",
    "    def move(self, turn):\n",
    "        # for i in seegments[-1]\n",
    "        new_head_pos = self.head + turn  \n",
    "\n",
    "        if (new_head_pos == self.apple).all():\n",
    "            self.take_apple()\n",
    "        elif ((new_head_pos>board_size-1).any() or (new_head_pos<0).any() or (self.board[new_head_pos[0]][new_head_pos[1]] == 0.5)):\n",
    "           # print(\"end\")\n",
    "            return False\n",
    "        else:   # segment moving\n",
    "            for i in range(len(self.segments)-1):\n",
    "                self.segments[i] = self.segments[i+1]  \n",
    "            else:\n",
    "                self.segments[i+1] = self.head.copy()    \n",
    "            self.head = new_head_pos\n",
    "        self.score += 0.2\n",
    "        self.set_board()\n",
    "        return True\n",
    "    def take_apple(self):\n",
    "        \"\"\" Generating new segment of snake and new apple in random place\"\"\"\n",
    "        self.new_segment()\n",
    "        self.head = self.apple.copy()\n",
    "        while( self.board[self.apple[0]][self.apple[1]] != 0):\n",
    "            self.apple = np.array([randint(0, board_size-1), randint(0, board_size-1)])\n",
    "        self.score +=5\n",
    "\n",
    "    def get_score(self):\n",
    "        return self.score\n",
    "\n",
    "    def new_segment(self):\n",
    "        \"\"\" Addition a new sigment to the snake\"\"\"\n",
    "        self.segments = np.append(self.segments, [self.head.copy()] , axis = 0)\n",
    "        self.head = self.apple.copy() "
   ]
  },
  {
   "cell_type": "code",
   "execution_count": 11,
   "metadata": {},
   "outputs": [],
   "source": [
    "\n",
    "def visual(model, delay=0.5, max_turns=150):\n",
    "    \"\"\"to see what snake ~doing\"\"\"\n",
    "    player = snake()\n",
    "    board = player.set_board() \n",
    "\n",
    "\n",
    "    pygame.init() \n",
    "    win = pygame.display.set_mode((770,770))  \n",
    "    alife = True\n",
    "    turn = 0 \n",
    "    player = snake()\n",
    "    player.set_board()\n",
    "    while(alife == True and turn < max_turns):\n",
    "        turn += 1\n",
    "        board = player.set_board()\n",
    "        prediction = predict(board, model)\n",
    "        pick = turns[np.argmax(prediction)] \n",
    "        draw(win, board)\n",
    "\n",
    "        pygame.display.update()\n",
    "\n",
    "        alife = player.move(pick)\n",
    "        time.sleep(delay) \n",
    "    score = player.get_score()\n",
    "    print(score)\n",
    "    pygame.display.quit()\n",
    "    pygame.quit()"
   ]
  },
  {
   "cell_type": "code",
   "execution_count": 16,
   "metadata": {
    "scrolled": false
   },
   "outputs": [
    {
     "name": "stderr",
     "output_type": "stream",
     "text": [
      "D:\\miniconda\\lib\\site-packages\\ipykernel_launcher.py:6: UserWarning: Update your `Model` call to the Keras 2 API: `Model(inputs=Tensor(\"in..., outputs=Tensor(\"de...)`\n",
      "  \n"
     ]
    },
    {
     "name": "stdout",
     "output_type": "stream",
     "text": [
      "0  score =  0.4\n",
      "1  score =  0\n",
      "2  score =  0\n",
      "3  score =  0.2\n",
      "4  score =  0.4\n",
      "5  score =  0.4\n",
      "6  score =  0.2\n",
      "best score =  0.4\n",
      "0.4\n"
     ]
    },
    {
     "name": "stderr",
     "output_type": "stream",
     "text": [
      "D:\\miniconda\\lib\\site-packages\\ipykernel_launcher.py:25: VisibleDeprecationWarning: Creating an ndarray from ragged nested sequences (which is a list-or-tuple of lists-or-tuples-or ndarrays with different lengths or shapes) is deprecated. If you meant to do this, you must specify 'dtype=object' when creating the ndarray\n",
      "D:\\miniconda\\lib\\site-packages\\ipykernel_launcher.py:6: DeprecationWarning: elementwise comparison failed; this will raise an error in the future.\n",
      "  \n"
     ]
    },
    {
     "name": "stdout",
     "output_type": "stream",
     "text": [
      "0  score =  0.4\n",
      "1  score =  6.2\n",
      "2  score =  0\n",
      "3  score =  0\n",
      "4  score =  0\n",
      "5  score =  0\n",
      "6  score =  0\n",
      "best score =  6.2\n",
      "6.2\n",
      "0  score =  1.4\n",
      "1  score =  0\n",
      "2  score =  0.4\n",
      "3  score =  0.4\n",
      "4  score =  0.4\n",
      "5  score =  0.4\n",
      "6  score =  0.4\n",
      "best score =  0.1\n",
      "6.2\n",
      "0  score =  1.4\n",
      "1  score =  0.4\n",
      "2  score =  0.4\n",
      "3  score =  0.4\n",
      "4  score =  0.4\n",
      "5  score =  0.4\n",
      "6  score =  0.4\n",
      "best score =  0.1\n",
      "6.2\n",
      "0  score =  0.6000000000000001\n",
      "1  score =  0\n",
      "2  score =  0.4\n",
      "3  score =  0.4\n",
      "4  score =  0.4\n",
      "5  score =  0.4\n",
      "6  score =  0.4\n",
      "best score =  0.1\n",
      "6.2\n",
      "0  score =  0.4\n",
      "1  score =  0.4\n",
      "2  score =  0.2\n",
      "3  score =  0.4\n",
      "4  score =  0.2\n",
      "5  score =  0.2\n",
      "6  score =  0.2\n",
      "best score =  0.1\n",
      "6.2\n",
      "0  score =  6.2\n",
      "1  score =  0.4\n",
      "2  score =  0.4\n",
      "3  score =  0.4\n",
      "4  score =  0.4\n",
      "5  score =  0.4\n",
      "6  score =  0.4\n",
      "best score =  0.1\n",
      "6.2\n"
     ]
    },
    {
     "ename": "KeyboardInterrupt",
     "evalue": "",
     "output_type": "error",
     "traceback": [
      "\u001b[1;31m---------------------------------------------------------------------------\u001b[0m",
      "\u001b[1;31mKeyboardInterrupt\u001b[0m                         Traceback (most recent call last)",
      "\u001b[1;32m<ipython-input-16-595ea0af3f82>\u001b[0m in \u001b[0;36m<module>\u001b[1;34m\u001b[0m\n\u001b[0;32m      1\u001b[0m \u001b[0mrandom\u001b[0m\u001b[1;33m.\u001b[0m\u001b[0mseed\u001b[0m\u001b[1;33m(\u001b[0m\u001b[1;36m2\u001b[0m\u001b[1;33m)\u001b[0m\u001b[1;33m\u001b[0m\u001b[1;33m\u001b[0m\u001b[0m\n\u001b[1;32m----> 2\u001b[1;33m \u001b[0mddd\u001b[0m \u001b[1;33m=\u001b[0m \u001b[0mtraining_loop\u001b[0m\u001b[1;33m(\u001b[0m\u001b[1;36m25\u001b[0m\u001b[1;33m,\u001b[0m \u001b[0mdelay\u001b[0m\u001b[1;33m=\u001b[0m\u001b[1;36m0.3\u001b[0m\u001b[1;33m)\u001b[0m\u001b[1;33m\u001b[0m\u001b[1;33m\u001b[0m\u001b[0m\n\u001b[0m\u001b[0;32m      3\u001b[0m \u001b[1;33m\u001b[0m\u001b[0m\n",
      "\u001b[1;32m<ipython-input-8-d8f6db83c8d3>\u001b[0m in \u001b[0;36mtraining_loop\u001b[1;34m(epoches, delay)\u001b[0m\n\u001b[0;32m     13\u001b[0m                  \u001b[0mw_new\u001b[0m \u001b[1;33m=\u001b[0m \u001b[1;36m0\u001b[0m\u001b[1;33m\u001b[0m\u001b[1;33m\u001b[0m\u001b[0m\n\u001b[0;32m     14\u001b[0m \u001b[1;33m\u001b[0m\u001b[0m\n\u001b[1;32m---> 15\u001b[1;33m             \u001b[0mscore\u001b[0m\u001b[1;33m,\u001b[0m \u001b[0mmodel\u001b[0m \u001b[1;33m=\u001b[0m \u001b[0mtrain_play\u001b[0m\u001b[1;33m(\u001b[0m \u001b[0mweights\u001b[0m\u001b[1;33m=\u001b[0m\u001b[0mw_new\u001b[0m\u001b[1;33m)\u001b[0m\u001b[1;33m\u001b[0m\u001b[1;33m\u001b[0m\u001b[0m\n\u001b[0m\u001b[0;32m     16\u001b[0m             \u001b[0mprint\u001b[0m\u001b[1;33m(\u001b[0m\u001b[0mj\u001b[0m\u001b[1;33m,\u001b[0m \u001b[1;34m\" score = \"\u001b[0m\u001b[1;33m,\u001b[0m \u001b[0mscore\u001b[0m\u001b[1;33m)\u001b[0m\u001b[1;33m\u001b[0m\u001b[1;33m\u001b[0m\u001b[0m\n\u001b[0;32m     17\u001b[0m             \u001b[1;32mif\u001b[0m \u001b[0mscore\u001b[0m \u001b[1;33m>\u001b[0m \u001b[0mbest_score\u001b[0m\u001b[1;33m:\u001b[0m\u001b[1;33m\u001b[0m\u001b[1;33m\u001b[0m\u001b[0m\n",
      "\u001b[1;32m<ipython-input-4-fed1fc85be8c>\u001b[0m in \u001b[0;36mtrain_play\u001b[1;34m(weights)\u001b[0m\n\u001b[0;32m     11\u001b[0m         \u001b[0mturn\u001b[0m \u001b[1;33m+=\u001b[0m \u001b[1;36m1\u001b[0m\u001b[1;33m\u001b[0m\u001b[1;33m\u001b[0m\u001b[0m\n\u001b[0;32m     12\u001b[0m         \u001b[0mboard\u001b[0m \u001b[1;33m=\u001b[0m \u001b[0mplayer\u001b[0m\u001b[1;33m.\u001b[0m\u001b[0mset_board\u001b[0m\u001b[1;33m(\u001b[0m\u001b[1;33m)\u001b[0m\u001b[1;33m\u001b[0m\u001b[1;33m\u001b[0m\u001b[0m\n\u001b[1;32m---> 13\u001b[1;33m         \u001b[0mprediction\u001b[0m \u001b[1;33m=\u001b[0m \u001b[0mpredict\u001b[0m\u001b[1;33m(\u001b[0m \u001b[0mboard\u001b[0m\u001b[1;33m,\u001b[0m \u001b[0mmodel\u001b[0m\u001b[1;33m)\u001b[0m\u001b[1;33m\u001b[0m\u001b[1;33m\u001b[0m\u001b[0m\n\u001b[0m\u001b[0;32m     14\u001b[0m         \u001b[0mpick\u001b[0m \u001b[1;33m=\u001b[0m \u001b[0mturns\u001b[0m\u001b[1;33m[\u001b[0m\u001b[0mnp\u001b[0m\u001b[1;33m.\u001b[0m\u001b[0margmax\u001b[0m\u001b[1;33m(\u001b[0m\u001b[0mprediction\u001b[0m\u001b[1;33m)\u001b[0m\u001b[1;33m]\u001b[0m\u001b[1;33m\u001b[0m\u001b[1;33m\u001b[0m\u001b[0m\n\u001b[0;32m     15\u001b[0m         \u001b[0malife\u001b[0m \u001b[1;33m=\u001b[0m \u001b[0mplayer\u001b[0m\u001b[1;33m.\u001b[0m\u001b[0mmove\u001b[0m\u001b[1;33m(\u001b[0m\u001b[0mpick\u001b[0m\u001b[1;33m)\u001b[0m\u001b[1;33m\u001b[0m\u001b[1;33m\u001b[0m\u001b[0m\n",
      "\u001b[1;32m<ipython-input-3-5ad88d83c07f>\u001b[0m in \u001b[0;36mpredict\u001b[1;34m(vision, model)\u001b[0m\n\u001b[0;32m      2\u001b[0m     \u001b[1;34m\"\"\" Prediction move using board \"\"\"\u001b[0m\u001b[1;33m\u001b[0m\u001b[1;33m\u001b[0m\u001b[0m\n\u001b[0;32m      3\u001b[0m     \u001b[0mvision\u001b[0m \u001b[1;33m=\u001b[0m \u001b[0mnp\u001b[0m\u001b[1;33m.\u001b[0m\u001b[0mreshape\u001b[0m\u001b[1;33m(\u001b[0m\u001b[0mvision\u001b[0m\u001b[1;33m,\u001b[0m \u001b[1;33m(\u001b[0m\u001b[1;36m1\u001b[0m\u001b[1;33m,\u001b[0m \u001b[1;36m49\u001b[0m\u001b[1;33m,\u001b[0m \u001b[1;36m1\u001b[0m\u001b[1;33m)\u001b[0m\u001b[1;33m)\u001b[0m\u001b[1;33m\u001b[0m\u001b[1;33m\u001b[0m\u001b[0m\n\u001b[1;32m----> 4\u001b[1;33m     \u001b[0mprediction\u001b[0m \u001b[1;33m=\u001b[0m \u001b[0mmodel\u001b[0m\u001b[1;33m.\u001b[0m\u001b[0mpredict\u001b[0m\u001b[1;33m(\u001b[0m\u001b[0mvision\u001b[0m\u001b[1;33m)\u001b[0m\u001b[1;33m\u001b[0m\u001b[1;33m\u001b[0m\u001b[0m\n\u001b[0m\u001b[0;32m      5\u001b[0m     \u001b[1;32mreturn\u001b[0m \u001b[0mprediction\u001b[0m\u001b[1;33m\u001b[0m\u001b[1;33m\u001b[0m\u001b[0m\n",
      "\u001b[1;32mD:\\miniconda\\lib\\site-packages\\keras\\engine\\training.py\u001b[0m in \u001b[0;36mpredict\u001b[1;34m(self, x, batch_size, verbose, steps, callbacks, max_queue_size, workers, use_multiprocessing)\u001b[0m\n\u001b[0;32m   1460\u001b[0m                                             \u001b[0mverbose\u001b[0m\u001b[1;33m=\u001b[0m\u001b[0mverbose\u001b[0m\u001b[1;33m,\u001b[0m\u001b[1;33m\u001b[0m\u001b[1;33m\u001b[0m\u001b[0m\n\u001b[0;32m   1461\u001b[0m                                             \u001b[0msteps\u001b[0m\u001b[1;33m=\u001b[0m\u001b[0msteps\u001b[0m\u001b[1;33m,\u001b[0m\u001b[1;33m\u001b[0m\u001b[1;33m\u001b[0m\u001b[0m\n\u001b[1;32m-> 1462\u001b[1;33m                                             callbacks=callbacks)\n\u001b[0m\u001b[0;32m   1463\u001b[0m \u001b[1;33m\u001b[0m\u001b[0m\n\u001b[0;32m   1464\u001b[0m     def train_on_batch(self, x, y,\n",
      "\u001b[1;32mD:\\miniconda\\lib\\site-packages\\keras\\engine\\training_arrays.py\u001b[0m in \u001b[0;36mpredict_loop\u001b[1;34m(model, f, ins, batch_size, verbose, steps, callbacks)\u001b[0m\n\u001b[0;32m    322\u001b[0m             \u001b[0mbatch_logs\u001b[0m \u001b[1;33m=\u001b[0m \u001b[1;33m{\u001b[0m\u001b[1;34m'batch'\u001b[0m\u001b[1;33m:\u001b[0m \u001b[0mbatch_index\u001b[0m\u001b[1;33m,\u001b[0m \u001b[1;34m'size'\u001b[0m\u001b[1;33m:\u001b[0m \u001b[0mlen\u001b[0m\u001b[1;33m(\u001b[0m\u001b[0mbatch_ids\u001b[0m\u001b[1;33m)\u001b[0m\u001b[1;33m}\u001b[0m\u001b[1;33m\u001b[0m\u001b[1;33m\u001b[0m\u001b[0m\n\u001b[0;32m    323\u001b[0m             \u001b[0mcallbacks\u001b[0m\u001b[1;33m.\u001b[0m\u001b[0m_call_batch_hook\u001b[0m\u001b[1;33m(\u001b[0m\u001b[1;34m'predict'\u001b[0m\u001b[1;33m,\u001b[0m \u001b[1;34m'begin'\u001b[0m\u001b[1;33m,\u001b[0m \u001b[0mbatch_index\u001b[0m\u001b[1;33m,\u001b[0m \u001b[0mbatch_logs\u001b[0m\u001b[1;33m)\u001b[0m\u001b[1;33m\u001b[0m\u001b[1;33m\u001b[0m\u001b[0m\n\u001b[1;32m--> 324\u001b[1;33m             \u001b[0mbatch_outs\u001b[0m \u001b[1;33m=\u001b[0m \u001b[0mf\u001b[0m\u001b[1;33m(\u001b[0m\u001b[0mins_batch\u001b[0m\u001b[1;33m)\u001b[0m\u001b[1;33m\u001b[0m\u001b[1;33m\u001b[0m\u001b[0m\n\u001b[0m\u001b[0;32m    325\u001b[0m             \u001b[0mbatch_outs\u001b[0m \u001b[1;33m=\u001b[0m \u001b[0mto_list\u001b[0m\u001b[1;33m(\u001b[0m\u001b[0mbatch_outs\u001b[0m\u001b[1;33m)\u001b[0m\u001b[1;33m\u001b[0m\u001b[1;33m\u001b[0m\u001b[0m\n\u001b[0;32m    326\u001b[0m             \u001b[1;32mif\u001b[0m \u001b[0mbatch_index\u001b[0m \u001b[1;33m==\u001b[0m \u001b[1;36m0\u001b[0m\u001b[1;33m:\u001b[0m\u001b[1;33m\u001b[0m\u001b[1;33m\u001b[0m\u001b[0m\n",
      "\u001b[1;32mD:\\miniconda\\lib\\site-packages\\tensorflow_core\\python\\keras\\backend.py\u001b[0m in \u001b[0;36m__call__\u001b[1;34m(self, inputs)\u001b[0m\n\u001b[0;32m   3471\u001b[0m         \u001b[0mfeed_symbols\u001b[0m \u001b[1;33m!=\u001b[0m \u001b[0mself\u001b[0m\u001b[1;33m.\u001b[0m\u001b[0m_feed_symbols\u001b[0m \u001b[1;32mor\u001b[0m \u001b[0mself\u001b[0m\u001b[1;33m.\u001b[0m\u001b[0mfetches\u001b[0m \u001b[1;33m!=\u001b[0m \u001b[0mself\u001b[0m\u001b[1;33m.\u001b[0m\u001b[0m_fetches\u001b[0m \u001b[1;32mor\u001b[0m\u001b[1;33m\u001b[0m\u001b[1;33m\u001b[0m\u001b[0m\n\u001b[0;32m   3472\u001b[0m         session != self._session):\n\u001b[1;32m-> 3473\u001b[1;33m       \u001b[0mself\u001b[0m\u001b[1;33m.\u001b[0m\u001b[0m_make_callable\u001b[0m\u001b[1;33m(\u001b[0m\u001b[0mfeed_arrays\u001b[0m\u001b[1;33m,\u001b[0m \u001b[0mfeed_symbols\u001b[0m\u001b[1;33m,\u001b[0m \u001b[0msymbol_vals\u001b[0m\u001b[1;33m,\u001b[0m \u001b[0msession\u001b[0m\u001b[1;33m)\u001b[0m\u001b[1;33m\u001b[0m\u001b[1;33m\u001b[0m\u001b[0m\n\u001b[0m\u001b[0;32m   3474\u001b[0m \u001b[1;33m\u001b[0m\u001b[0m\n\u001b[0;32m   3475\u001b[0m     fetched = self._callable_fn(*array_vals,\n",
      "\u001b[1;32mD:\\miniconda\\lib\\site-packages\\tensorflow_core\\python\\keras\\backend.py\u001b[0m in \u001b[0;36m_make_callable\u001b[1;34m(self, feed_arrays, feed_symbols, symbol_vals, session)\u001b[0m\n\u001b[0;32m   3408\u001b[0m       \u001b[0mcallable_opts\u001b[0m\u001b[1;33m.\u001b[0m\u001b[0mrun_options\u001b[0m\u001b[1;33m.\u001b[0m\u001b[0mCopyFrom\u001b[0m\u001b[1;33m(\u001b[0m\u001b[0mself\u001b[0m\u001b[1;33m.\u001b[0m\u001b[0mrun_options\u001b[0m\u001b[1;33m)\u001b[0m\u001b[1;33m\u001b[0m\u001b[1;33m\u001b[0m\u001b[0m\n\u001b[0;32m   3409\u001b[0m     \u001b[1;31m# Create callable.\u001b[0m\u001b[1;33m\u001b[0m\u001b[1;33m\u001b[0m\u001b[1;33m\u001b[0m\u001b[0m\n\u001b[1;32m-> 3410\u001b[1;33m     \u001b[0mcallable_fn\u001b[0m \u001b[1;33m=\u001b[0m \u001b[0msession\u001b[0m\u001b[1;33m.\u001b[0m\u001b[0m_make_callable_from_options\u001b[0m\u001b[1;33m(\u001b[0m\u001b[0mcallable_opts\u001b[0m\u001b[1;33m)\u001b[0m\u001b[1;33m\u001b[0m\u001b[1;33m\u001b[0m\u001b[0m\n\u001b[0m\u001b[0;32m   3411\u001b[0m     \u001b[1;31m# Cache parameters corresponding to the generated callable, so that\u001b[0m\u001b[1;33m\u001b[0m\u001b[1;33m\u001b[0m\u001b[1;33m\u001b[0m\u001b[0m\n\u001b[0;32m   3412\u001b[0m     \u001b[1;31m# we can detect future mismatches and refresh the callable.\u001b[0m\u001b[1;33m\u001b[0m\u001b[1;33m\u001b[0m\u001b[1;33m\u001b[0m\u001b[0m\n",
      "\u001b[1;32mD:\\miniconda\\lib\\site-packages\\tensorflow_core\\python\\client\\session.py\u001b[0m in \u001b[0;36m_make_callable_from_options\u001b[1;34m(self, callable_options)\u001b[0m\n\u001b[0;32m   1502\u001b[0m       \u001b[0mA\u001b[0m \u001b[0mhandle\u001b[0m \u001b[0mto\u001b[0m \u001b[0mthe\u001b[0m \u001b[0mnew\u001b[0m \u001b[0mcallable\u001b[0m\u001b[1;33m.\u001b[0m\u001b[1;33m\u001b[0m\u001b[1;33m\u001b[0m\u001b[0m\n\u001b[0;32m   1503\u001b[0m     \"\"\"\n\u001b[1;32m-> 1504\u001b[1;33m     \u001b[0mself\u001b[0m\u001b[1;33m.\u001b[0m\u001b[0m_extend_graph\u001b[0m\u001b[1;33m(\u001b[0m\u001b[1;33m)\u001b[0m\u001b[1;33m\u001b[0m\u001b[1;33m\u001b[0m\u001b[0m\n\u001b[0m\u001b[0;32m   1505\u001b[0m     \u001b[1;32mreturn\u001b[0m \u001b[0mBaseSession\u001b[0m\u001b[1;33m.\u001b[0m\u001b[0m_Callable\u001b[0m\u001b[1;33m(\u001b[0m\u001b[0mself\u001b[0m\u001b[1;33m,\u001b[0m \u001b[0mcallable_options\u001b[0m\u001b[1;33m)\u001b[0m\u001b[1;33m\u001b[0m\u001b[1;33m\u001b[0m\u001b[0m\n\u001b[0;32m   1506\u001b[0m \u001b[1;33m\u001b[0m\u001b[0m\n",
      "\u001b[1;32mD:\\miniconda\\lib\\site-packages\\tensorflow_core\\python\\client\\session.py\u001b[0m in \u001b[0;36m_extend_graph\u001b[1;34m(self)\u001b[0m\n\u001b[0;32m   1386\u001b[0m   \u001b[1;32mdef\u001b[0m \u001b[0m_extend_graph\u001b[0m\u001b[1;33m(\u001b[0m\u001b[0mself\u001b[0m\u001b[1;33m)\u001b[0m\u001b[1;33m:\u001b[0m\u001b[1;33m\u001b[0m\u001b[1;33m\u001b[0m\u001b[0m\n\u001b[0;32m   1387\u001b[0m     \u001b[1;32mwith\u001b[0m \u001b[0mself\u001b[0m\u001b[1;33m.\u001b[0m\u001b[0m_graph\u001b[0m\u001b[1;33m.\u001b[0m\u001b[0m_session_run_lock\u001b[0m\u001b[1;33m(\u001b[0m\u001b[1;33m)\u001b[0m\u001b[1;33m:\u001b[0m  \u001b[1;31m# pylint: disable=protected-access\u001b[0m\u001b[1;33m\u001b[0m\u001b[1;33m\u001b[0m\u001b[0m\n\u001b[1;32m-> 1388\u001b[1;33m       \u001b[0mtf_session\u001b[0m\u001b[1;33m.\u001b[0m\u001b[0mExtendSession\u001b[0m\u001b[1;33m(\u001b[0m\u001b[0mself\u001b[0m\u001b[1;33m.\u001b[0m\u001b[0m_session\u001b[0m\u001b[1;33m)\u001b[0m\u001b[1;33m\u001b[0m\u001b[1;33m\u001b[0m\u001b[0m\n\u001b[0m\u001b[0;32m   1389\u001b[0m \u001b[1;33m\u001b[0m\u001b[0m\n\u001b[0;32m   1390\u001b[0m   \u001b[1;31m# The threshold to run garbage collection to delete dead tensors.\u001b[0m\u001b[1;33m\u001b[0m\u001b[1;33m\u001b[0m\u001b[1;33m\u001b[0m\u001b[0m\n",
      "\u001b[1;31mKeyboardInterrupt\u001b[0m: "
     ]
    }
   ],
   "source": [
    "random.seed(2) \n",
    "ddd = training_loop(25, delay=0.3)\n",
    " \n"
   ]
  },
  {
   "cell_type": "code",
   "execution_count": null,
   "metadata": {},
   "outputs": [],
   "source": [
    "a = [1,2,3]\n",
    "b  = a.copy()\n",
    "b[2] = 5\n",
    "print(a)"
   ]
  },
  {
   "cell_type": "code",
   "execution_count": null,
   "metadata": {},
   "outputs": [],
   "source": [
    "x = [\"0\", \"1\", \"2\"]\n",
    "y = ''.join(x) # converting list into string\n",
    "z = int(y)\n",
    "print(z)"
   ]
  },
  {
   "cell_type": "code",
   "execution_count": null,
   "metadata": {},
   "outputs": [],
   "source": []
  }
 ],
 "metadata": {
  "kernelspec": {
   "display_name": "Python 3",
   "language": "python",
   "name": "python3"
  },
  "language_info": {
   "codemirror_mode": {
    "name": "ipython",
    "version": 3
   },
   "file_extension": ".py",
   "mimetype": "text/x-python",
   "name": "python",
   "nbconvert_exporter": "python",
   "pygments_lexer": "ipython3",
   "version": "3.7.7"
  }
 },
 "nbformat": 4,
 "nbformat_minor": 4
}
